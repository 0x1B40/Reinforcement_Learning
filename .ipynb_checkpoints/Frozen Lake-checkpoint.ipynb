{
 "cells": [
  {
   "cell_type": "code",
   "execution_count": 135,
   "id": "c8d43239-c283-4f18-82c0-d56d4d489ee5",
   "metadata": {},
   "outputs": [],
   "source": [
    "import numpy as np\n",
    "import gym\n",
    "import random\n",
    "import time\n",
    "from IPython.display import clear_output"
   ]
  },
  {
   "cell_type": "code",
   "execution_count": 136,
   "id": "99fabbaf-1efe-409c-9f30-ee2825b34315",
   "metadata": {},
   "outputs": [],
   "source": [
    "env=gym.make(\"FrozenLake-v1\")"
   ]
  },
  {
   "cell_type": "code",
   "execution_count": 137,
   "id": "036b7337-8202-4397-8dee-2d2af5580354",
   "metadata": {},
   "outputs": [
    {
     "data": {
      "text/plain": [
       "0"
      ]
     },
     "execution_count": 137,
     "metadata": {},
     "output_type": "execute_result"
    }
   ],
   "source": [
    "env.reset()"
   ]
  },
  {
   "cell_type": "code",
   "execution_count": 138,
   "id": "3eedae49-2607-4acf-801d-7f0e156d1265",
   "metadata": {},
   "outputs": [],
   "source": [
    "action_space_size = env.action_space.n\n",
    "state_space_size = env.observation_space.n\n",
    "q_table = np.zeros((state_space_size,action_space_size))"
   ]
  },
  {
   "cell_type": "code",
   "execution_count": 139,
   "id": "d75bcba4-fd89-4ec4-8fed-0fefa8386485",
   "metadata": {},
   "outputs": [],
   "source": [
    "num_episodes = 10000\n",
    "max_steps_per_episode = 100\n",
    "\n",
    "learning_rate = 0.3\n",
    "discount_rate = 0.99\n",
    "exploration_rate = 1\n",
    "max_exploration_rate = 1\n",
    "min_exploration_rate = 0.01\n",
    "exploration_decay_rate = 0.001\n"
   ]
  },
  {
   "cell_type": "code",
   "execution_count": 140,
   "id": "74f8b0de-19f0-4f4e-9fce-f77c7a21f048",
   "metadata": {},
   "outputs": [
    {
     "name": "stdout",
     "output_type": "stream",
     "text": [
      " ****** Average reward per thousand episodes ********\n",
      "1000 : 0.05000000000000004\n",
      "2000 : 0.16000000000000011\n",
      "3000 : 0.35900000000000026\n",
      "4000 : 0.5110000000000003\n",
      "5000 : 0.5670000000000004\n",
      "6000 : 0.6440000000000005\n",
      "7000 : 0.6300000000000004\n",
      "8000 : 0.6450000000000005\n",
      "9000 : 0.6300000000000004\n",
      "10000 : 0.6600000000000005\n",
      "********* Q-Table *********\n",
      "[[0.54767093 0.45516909 0.45304147 0.45550406]\n",
      " [0.3999747  0.24205767 0.11861968 0.45165157]\n",
      " [0.32440625 0.27542828 0.26732328 0.37389783]\n",
      " [0.13387531 0.30402143 0.17656325 0.36610716]\n",
      " [0.58616949 0.44210237 0.35360109 0.31063876]\n",
      " [0.         0.         0.         0.        ]\n",
      " [0.0070713  0.00944692 0.22192657 0.00956196]\n",
      " [0.         0.         0.         0.        ]\n",
      " [0.32071929 0.40984669 0.40656113 0.6442262 ]\n",
      " [0.31037082 0.79221948 0.12436397 0.32468526]\n",
      " [0.85756123 0.35462469 0.34436696 0.1306398 ]\n",
      " [0.         0.         0.         0.        ]\n",
      " [0.         0.         0.         0.        ]\n",
      " [0.45726353 0.10421705 0.82871366 0.155164  ]\n",
      " [0.6379495  0.92161713 0.69733842 0.73428212]\n",
      " [0.         0.         0.         0.        ]]\n"
     ]
    }
   ],
   "source": [
    "rewards_from_all_episodes = []\n",
    "\n",
    "# Q-Learning algorithm\n",
    "\n",
    "for episode in range(num_episodes):\n",
    "    state = env.reset() # resets the state of the environment back to the starting state.\n",
    "    done = False\n",
    "    rewards_current_episode=0\n",
    "    \n",
    "    for step in range(max_steps_per_episode):\n",
    "        #Exploration-exploitation trade-off\n",
    "        exploration_rate_threshold = random.uniform(0,1)\n",
    "        if (exploration_rate_threshold > exploration_rate):\n",
    "            action = np.argmax(q_table[state,:])\n",
    "        else:\n",
    "            action = env.action_space.sample()\n",
    "        \n",
    "        new_state,reward,done,info = env.step(action)\n",
    "        \n",
    "        q_table[state,action] =q_table[state,action] * (1-learning_rate) + learning_rate * (reward+discount_rate* np.max(q_table[new_state,:])) \n",
    "                         \n",
    "        state = new_state\n",
    "        rewards_current_episode += reward\n",
    "        if (done == True):\n",
    "            break\n",
    "        \n",
    "    \n",
    "    exploration_rate = min_exploration_rate + (max_exploration_rate -min_exploration_rate) * np.exp(-exploration_decay_rate * episode)\n",
    "    rewards_from_all_episodes.append(rewards_current_episode)\n",
    "\n",
    "rewards_per_thousand_episodes = np.split(np.array(rewards_from_all_episodes),num_episodes/1000)                          \n",
    "count = 1000\n",
    "                         \n",
    "print(\" ****** Average reward per thousand episodes ********\")\n",
    "for r in rewards_per_thousand_episodes:\n",
    "    print(count,\":\",str(sum(r/1000)))\n",
    "    count+=1000\n",
    "      \n",
    "# Print updated Q-table\n",
    "print(\"********* Q-Table *********\")\n",
    "print(q_table)\n",
    "                         \n",
    "                         \n",
    "                         \n",
    "                         \n",
    "                         \n",
    "                         \n",
    "                         \n",
    "                         "
   ]
  },
  {
   "cell_type": "code",
   "execution_count": 141,
   "id": "40e669f4-ddf3-49f0-a53b-0a407d1115b9",
   "metadata": {},
   "outputs": [
    {
     "name": "stdout",
     "output_type": "stream",
     "text": [
      " you fell through a hole !! \n",
      "your reward: \n",
      "0.0\n"
     ]
    }
   ],
   "source": [
    "env.reset()\n",
    "for episode in range(3):\n",
    "    state = env.reset()\n",
    "    done = False\n",
    "    print ( \" ******EPISODE\" , episode+1,\"*******\\n\\n\\n\\n\\n\")\n",
    "    time.sleep(1)\n",
    "\n",
    "    for step in range(max_steps_per_episode):\n",
    "        clear_output(wait=True)\n",
    "        env.render()\n",
    "        time.sleep(0.3)\n",
    "\n",
    "        action = np.argmax(q_table[state,:])\n",
    "        new_state , reward,done,info = env.step(action)\n",
    "\n",
    "        if done:\n",
    "            clear_output(wait=True)\n",
    "            env.render()\n",
    "            if reward == 1:\n",
    "                print(\" You reached the goal !! \")\n",
    "                time.sleep(1)\n",
    "\n",
    "            else:\n",
    "                print(\" you fell through a hole !! \")\n",
    "                time.sleep(3)\n",
    "                clear_output(wait=True)\n",
    "                break\n",
    "\n",
    "        state = new_state\n",
    "        \n",
    "env.close()"
   ]
  },
  {
   "cell_type": "code",
   "execution_count": null,
   "id": "d3c55ef7-586b-438b-858b-ce92ee969f24",
   "metadata": {},
   "outputs": [],
   "source": []
  }
 ],
 "metadata": {
  "kernelspec": {
   "display_name": "Python 3 (ipykernel)",
   "language": "python",
   "name": "python3"
  },
  "language_info": {
   "codemirror_mode": {
    "name": "ipython",
    "version": 3
   },
   "file_extension": ".py",
   "mimetype": "text/x-python",
   "name": "python",
   "nbconvert_exporter": "python",
   "pygments_lexer": "ipython3",
   "version": "3.9.6"
  }
 },
 "nbformat": 4,
 "nbformat_minor": 5
}
