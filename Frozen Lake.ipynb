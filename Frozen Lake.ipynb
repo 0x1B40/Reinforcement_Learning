{
 "cells": [
  {
   "cell_type": "code",
   "execution_count": 46,
   "id": "c8d43239-c283-4f18-82c0-d56d4d489ee5",
   "metadata": {},
   "outputs": [],
   "source": [
    "import numpy as np\n",
    "import gym\n",
    "import random\n",
    "import time\n",
    "from IPython.display import clear_output"
   ]
  },
  {
   "cell_type": "code",
   "execution_count": 47,
   "id": "99fabbaf-1efe-409c-9f30-ee2825b34315",
   "metadata": {},
   "outputs": [],
   "source": [
    "env=gym.make(\"FrozenLake-v1\")"
   ]
  },
  {
   "cell_type": "code",
   "execution_count": 48,
   "id": "036b7337-8202-4397-8dee-2d2af5580354",
   "metadata": {},
   "outputs": [
    {
     "data": {
      "text/plain": [
       "0"
      ]
     },
     "execution_count": 48,
     "metadata": {},
     "output_type": "execute_result"
    }
   ],
   "source": [
    "env.reset()"
   ]
  },
  {
   "cell_type": "code",
   "execution_count": 49,
   "id": "3eedae49-2607-4acf-801d-7f0e156d1265",
   "metadata": {},
   "outputs": [],
   "source": [
    "action_space_size = env.action_space.n\n",
    "state_space_size = env.observation_space.n\n",
    "q_table = np.zeros((state_space_size,action_space_size))"
   ]
  },
  {
   "cell_type": "code",
   "execution_count": 50,
   "id": "d75bcba4-fd89-4ec4-8fed-0fefa8386485",
   "metadata": {},
   "outputs": [],
   "source": [
    "num_episodes = 10000\n",
    "max_steps_per_episode = 100\n",
    "\n",
    "learning_rate = 0.1\n",
    "discount_rate = 0.99\n",
    "exploration_rate = 1\n",
    "max_exploration_rate = 1\n",
    "min_exploration_rate = 0.01\n",
    "exploration_decay_rate = 0.001\n"
   ]
  },
  {
   "cell_type": "code",
   "execution_count": 51,
   "id": "74f8b0de-19f0-4f4e-9fce-f77c7a21f048",
   "metadata": {},
   "outputs": [
    {
     "name": "stdout",
     "output_type": "stream",
     "text": [
      " ****** Average reward per thousand episodes ********\n",
      "1000 : 0.04900000000000004\n",
      "2000 : 0.20900000000000016\n",
      "3000 : 0.4020000000000003\n",
      "4000 : 0.5710000000000004\n",
      "5000 : 0.6610000000000005\n",
      "6000 : 0.6780000000000005\n",
      "7000 : 0.6860000000000005\n",
      "8000 : 0.6850000000000005\n",
      "9000 : 0.7080000000000005\n",
      "10000 : 0.6930000000000005\n",
      "********* Q-Table *********\n",
      "[[0.57547981 0.50452443 0.5044512  0.50792499]\n",
      " [0.35968119 0.34498412 0.29777182 0.52023461]\n",
      " [0.42215809 0.42881439 0.40947369 0.46972264]\n",
      " [0.27228999 0.32267523 0.37956316 0.44587805]\n",
      " [0.58996375 0.45124384 0.40711272 0.30950657]\n",
      " [0.         0.         0.         0.        ]\n",
      " [0.15273662 0.14257825 0.31586357 0.16164692]\n",
      " [0.         0.         0.         0.        ]\n",
      " [0.41166764 0.40254489 0.49816637 0.61717804]\n",
      " [0.44252708 0.65991698 0.2754386  0.35736492]\n",
      " [0.57893415 0.36972258 0.38836972 0.26372719]\n",
      " [0.         0.         0.         0.        ]\n",
      " [0.         0.         0.         0.        ]\n",
      " [0.47810473 0.56957952 0.77489475 0.45904348]\n",
      " [0.72835613 0.87415964 0.78093771 0.76641924]\n",
      " [0.         0.         0.         0.        ]]\n"
     ]
    }
   ],
   "source": [
    "rewards_from_all_episodes = []\n",
    "\n",
    "# Q-Learning algorithm\n",
    "\n",
    "for episode in range(num_episodes):\n",
    "    state = env.reset() # resets the state of the environment back to the starting state.\n",
    "    done = False\n",
    "    rewards_current_episode=0\n",
    "    \n",
    "    for step in range(max_steps_per_episode):\n",
    "        #Exploration-exploitation trade-off\n",
    "        exploration_rate_threshold = random.uniform(0,1)\n",
    "        if (exploration_rate_threshold > exploration_rate):\n",
    "            action = np.argmax(q_table[state,:])\n",
    "        else:\n",
    "            action = env.action_space.sample()\n",
    "        \n",
    "        new_state,reward,done,info = env.step(action)\n",
    "        \n",
    "        q_table[state,action] =q_table[state,action] * (1-learning_rate) + (learning_rate * (reward+(discount_rate* np.max(q_table[new_state,:]))))\n",
    "                         \n",
    "        state = new_state\n",
    "        rewards_current_episode += reward\n",
    "        if (done == True):\n",
    "            break\n",
    "        \n",
    "    \n",
    "    exploration_rate = min_exploration_rate + (max_exploration_rate -min_exploration_rate) * np.exp(-exploration_decay_rate * episode)\n",
    "    rewards_from_all_episodes.append(rewards_current_episode)\n",
    "\n",
    "rewards_per_thousand_episodes = np.split(np.array(rewards_from_all_episodes),num_episodes/1000)                          \n",
    "count = 1000\n",
    "                         \n",
    "print(\" ****** Average reward per thousand episodes ********\")\n",
    "for r in rewards_per_thousand_episodes:\n",
    "    print(count,\":\",str(sum(r/1000)))\n",
    "    count+=1000\n",
    "      \n",
    "# Print updated Q-table\n",
    "print(\"********* Q-Table *********\")\n",
    "print(q_table)\n",
    "                         \n",
    "                         \n",
    "                         \n",
    "                         \n",
    "                         \n",
    "                         \n",
    "                         \n",
    "                         "
   ]
  },
  {
   "cell_type": "code",
   "execution_count": null,
   "id": "40e669f4-ddf3-49f0-a53b-0a407d1115b9",
   "metadata": {},
   "outputs": [],
   "source": []
  },
  {
   "cell_type": "code",
   "execution_count": null,
   "id": "3baa3089-40f4-467e-b273-4574adf47df4",
   "metadata": {},
   "outputs": [],
   "source": []
  }
 ],
 "metadata": {
  "kernelspec": {
   "display_name": "Python 3 (ipykernel)",
   "language": "python",
   "name": "python3"
  },
  "language_info": {
   "codemirror_mode": {
    "name": "ipython",
    "version": 3
   },
   "file_extension": ".py",
   "mimetype": "text/x-python",
   "name": "python",
   "nbconvert_exporter": "python",
   "pygments_lexer": "ipython3",
   "version": "3.9.6"
  }
 },
 "nbformat": 4,
 "nbformat_minor": 5
}
