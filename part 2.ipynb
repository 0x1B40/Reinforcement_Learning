{
 "cells": [
  {
   "cell_type": "code",
   "execution_count": 5,
   "id": "51fe92fb-1705-4106-8637-a5261face6f9",
   "metadata": {},
   "outputs": [],
   "source": [
    "# Main Program\n",
    "import torch"
   ]
  },
  {
   "cell_type": "code",
   "execution_count": 6,
   "id": "c2c0ff62-87f9-4fba-8ce1-3611b0d0ac0a",
   "metadata": {},
   "outputs": [],
   "source": [
    "batch_size = 256\n",
    "gamma = 0.999\n",
    "eps_start = 1\n",
    "eps_end = 0.01\n",
    "eps_decay = 0.001\n",
    "target_update = 10\n",
    "memory_size = 100000\n",
    "lr = 0.001\n",
    "num_episodes = 1000"
   ]
  },
  {
   "cell_type": "code",
   "execution_count": 7,
   "id": "2be88e31-4585-4512-9d07-1cb89c29a4f5",
   "metadata": {},
   "outputs": [
    {
     "ename": "NameError",
     "evalue": "name 'CartPoleEnvManager' is not defined",
     "output_type": "error",
     "traceback": [
      "\u001b[1;31m---------------------------------------------------------------------------\u001b[0m",
      "\u001b[1;31mNameError\u001b[0m                                 Traceback (most recent call last)",
      "Input \u001b[1;32mIn [7]\u001b[0m, in \u001b[0;36m<module>\u001b[1;34m\u001b[0m\n\u001b[0;32m      1\u001b[0m device \u001b[38;5;241m=\u001b[39m torch\u001b[38;5;241m.\u001b[39mdevice (\u001b[38;5;124m\"\u001b[39m\u001b[38;5;124mcuda\u001b[39m\u001b[38;5;124m\"\u001b[39m \u001b[38;5;28;01mif\u001b[39;00m torch\u001b[38;5;241m.\u001b[39mcuda\u001b[38;5;241m.\u001b[39mis_available() \u001b[38;5;28;01melse\u001b[39;00m \u001b[38;5;124m\"\u001b[39m\u001b[38;5;124mcpu\u001b[39m\u001b[38;5;124m\"\u001b[39m)\n\u001b[1;32m----> 2\u001b[0m em \u001b[38;5;241m=\u001b[39m \u001b[43mCartPoleEnvManager\u001b[49m(device)\n\u001b[0;32m      3\u001b[0m strategy \u001b[38;5;241m=\u001b[39m EpislonGreedyStrategy(eps_start,eps_end,eps_decay)\n\u001b[0;32m      4\u001b[0m agent\u001b[38;5;241m=\u001b[39mAgentt(strategy,em\u001b[38;5;241m.\u001b[39mnum_actions_available(),device)\n",
      "\u001b[1;31mNameError\u001b[0m: name 'CartPoleEnvManager' is not defined"
     ]
    }
   ],
   "source": [
    "device = torch.device (\"cuda\" if torch.cuda.is_available() else \"cpu\")\n",
    "em = CartPoleEnvManager(device)\n",
    "strategy = EpislonGreedyStrategy(eps_start,eps_end,eps_decay)\n",
    "agent=Agentt(strategy,em.num_actions_available(),device)\n",
    "memory = ReplayMemory(memory_size)\n",
    "policy_net = DQN(em.get_screen_height())"
   ]
  },
  {
   "cell_type": "code",
   "execution_count": null,
   "id": "6c1cbd7b-70d1-4e9c-8b83-85a5e7476791",
   "metadata": {},
   "outputs": [],
   "source": []
  }
 ],
 "metadata": {
  "kernelspec": {
   "display_name": "Python 3 (ipykernel)",
   "language": "python",
   "name": "python3"
  },
  "language_info": {
   "codemirror_mode": {
    "name": "ipython",
    "version": 3
   },
   "file_extension": ".py",
   "mimetype": "text/x-python",
   "name": "python",
   "nbconvert_exporter": "python",
   "pygments_lexer": "ipython3",
   "version": "3.9.10"
  }
 },
 "nbformat": 4,
 "nbformat_minor": 5
}
